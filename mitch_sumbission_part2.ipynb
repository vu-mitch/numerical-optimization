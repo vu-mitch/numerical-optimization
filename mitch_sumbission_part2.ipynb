{
 "cells": [
  {
   "cell_type": "code",
   "execution_count": 483,
   "id": "edac25ea-5122-4eb5-b3d5-7f140173cd86",
   "metadata": {},
   "outputs": [],
   "source": [
    "import matplotlib\n",
    "import numpy as np\n",
    "import matplotlib.pyplot as plt\n",
    "import pandas as pd"
   ]
  },
  {
   "cell_type": "code",
   "execution_count": 484,
   "id": "7ff65d91-5f8a-4a0f-9d06-2217dbdfe7ce",
   "metadata": {},
   "outputs": [],
   "source": [
    "def plot_2d_function(f, x1_range: list, x2_range: list, N=1000):\n",
    "    x1 = np.linspace(x1_range[0], x1_range[1], N)\n",
    "    x2 = np.linspace(x2_range[0], x2_range[1], N)\n",
    "    x1_mesh, x2_mesh = np.meshgrid(x1, x2)\n",
    "    f_mesh = f([x1_mesh, x2_mesh])\n",
    "\n",
    "    # Create a contour plot\n",
    "    plt.style.use(\"dark_background\")\n",
    "    plt.figure(figsize=(11, 6))\n",
    "    plt.contourf(x1_mesh, x2_mesh, f_mesh, levels=25, cmap=\"gist_rainbow\")\n",
    "    plt.colorbar()\n",
    "    # Add some text to the plot\n",
    "    plt.xlabel('x1')\n",
    "    plt.ylabel('x2')\n",
    "    \n",
    "def add_opt_path(x_iters, color, color2, label: str):\n",
    "    plt.scatter(x_iters[:, 0], x_iters[:, 1], color=color, linewidth=0.1)\n",
    "    plt.plot(x_iters[:, 0], x_iters[:, 1], color=color2, linewidth=1, label=label)  "
   ]
  },
  {
   "cell_type": "markdown",
   "id": "822b92a6-da0f-47bf-9056-58bc98d1e861",
   "metadata": {},
   "source": [
    "### Line Search Method\n",
    "---"
   ]
  },
  {
   "cell_type": "code",
   "execution_count": 485,
   "id": "9eab7ea2-f664-4c29-821b-062c068bbe22",
   "metadata": {},
   "outputs": [],
   "source": [
    "def line_search(f, x, p, grad, alpha=1, r=0.8, c=0.9):\n",
    "  # backtracking algortihm from page 37\n",
    "\n",
    "    while f(x + alpha * p) > f(x) + (c * alpha * grad(x).T @ p):\n",
    "        alpha = r * alpha\n",
    "\n",
    "    return alpha"
   ]
  },
  {
   "cell_type": "markdown",
   "id": "8e7e67a3-aad5-4e00-89a1-84d851087364",
   "metadata": {},
   "source": [
    "### Gradient Descent\n",
    "---"
   ]
  },
  {
   "cell_type": "code",
   "execution_count": 486,
   "id": "f1080b28-2209-482f-97c0-4686e13cea61",
   "metadata": {},
   "outputs": [],
   "source": [
    "def gradient_descent(f, grad, x_0, tol= 0.1, alpha=0.1, n_iters=99):\n",
    "    x = x_0\n",
    "    x_iters = [x.reshape(-1,1)]\n",
    "    i = 0\n",
    "    while np.linalg.norm(grad(x)) > tol and i < n_iters:\n",
    "        i += 1\n",
    "        p = -1 * grad(x)\n",
    "        alpha = line_search(f, x, p, grad)\n",
    "        x_new = x - alpha * grad(x)\n",
    "        x_iters.append(x_new.reshape(-1,1))\n",
    "        x = x_new\n",
    "#     print(\"Converged at:\",i)\n",
    "    return np.array(x_iters)"
   ]
  },
  {
   "cell_type": "markdown",
   "id": "fd00f9e1-c433-4246-bada-20097ca5465d",
   "metadata": {},
   "source": [
    "### Newton Method\n",
    "---"
   ]
  },
  {
   "cell_type": "code",
   "execution_count": 487,
   "id": "22aaaf9b-3e87-4a50-9cbf-4dfa630a7599",
   "metadata": {},
   "outputs": [],
   "source": [
    "def newton_method(x_start:list, f, grad, hess, tol=1e-4, n_iter = 100):\n",
    "    x = x_start\n",
    "    i = 0\n",
    "    x_iters = [x.reshape(-1,1)]\n",
    "    while np.linalg.norm(grad(x)) > tol and i < n_iter:\n",
    "        i += 1 \n",
    "        pk = -(hess(x) @ grad(x))\n",
    "        ak = line_search(f, x, pk, grad)\n",
    "        x_next = x + ak * pk\n",
    "        x = x_next\n",
    "        x_iters.append(x.reshape(-1,1))\n",
    "#         if i % 10 == 0: print(f\"[{i}] loss:\", np.linalg.norm(grad(x)))\n",
    "#     print(\"Converged at iteration:\", i)\n",
    "    return np.array(x_iters)"
   ]
  },
  {
   "cell_type": "markdown",
   "id": "5f6fb125-b31b-4924-940b-4f6f8abcbda2",
   "metadata": {},
   "source": [
    "### Conjugate Gradient Method: Fletcher-Reeves\n",
    "---"
   ]
  },
  {
   "cell_type": "code",
   "execution_count": 488,
   "id": "09cfc3c4-1a38-484c-98a2-5115cd4377c5",
   "metadata": {},
   "outputs": [],
   "source": [
    "def grad_approx(f, x, args=None, h=1e-3):\n",
    "    \"\"\"central difference approximation of gradient\n",
    "    param: f - function, takes as argument only x, returns scalar, can be seen as f(x)=f(x1,x2,x3,...xn)\n",
    "    param: x - array of arguments can be seen as [x1,x2,x3...xn] or [x,y,z...]\n",
    "    param: h - difference scalar\"\"\"\n",
    "    grad = np.zeros(x.shape)\n",
    "    for i, arg in enumerate(x):\n",
    "        plus_h = np.copy(x)\n",
    "        plus_h[i] = arg+h\n",
    "        \n",
    "        minus_h = np.copy(x)\n",
    "        minus_h[i] = arg-h\n",
    "        if not args==None:\n",
    "            f_plus_h = f(plus_h,**args)\n",
    "            f_minus_h = f(minus_h,**args)\n",
    "        else:\n",
    "            f_plus_h = f(plus_h)\n",
    "            f_minus_h = f(minus_h)\n",
    "        \n",
    "        grad[i] = (f_plus_h-f_minus_h)/(2*h)\n",
    "    return grad\n",
    "\n",
    "def hess_approx(f, x, args=None, h=1e-2, noise=False):\n",
    "    hess = np.zeros((x.shape[0],x.shape[0]))\n",
    "    for i in range(x.shape[0]):\n",
    "        one_hot = np.zeros(x.shape[0])\n",
    "        one_hot[i]=1\n",
    "        one_hot = one_hot*h\n",
    "        \n",
    "        plus_oh = x+one_hot\n",
    "        minus_oh = x-one_hot\n",
    "        if not args==None:\n",
    "            f_plus  = grad_approx(f,plus_oh,args)\n",
    "            f_minus = grad_approx(f,minus_oh,args)\n",
    "        else:\n",
    "            f_plus  = grad_approx(f,plus_oh)\n",
    "            f_minus = grad_approx(f,minus_oh)\n",
    "            \n",
    "        hess[:,i]= (f_plus-f_minus)/(2*h)\n",
    "    if noise:\n",
    "        noise = np.random.normal(0,1,hess.shape)#normal distributed, mean 0, std 1\n",
    "        hess = hess + noise\n",
    "    return hess\n",
    "\n",
    "def line_search2(f,x,pk,α=1,p=0.8,c1=1e-4,c2=0.9):#c1 c2 are chosen by reccomendations from book\n",
    "    while (f(x+α*pk)>f(x)+c1*α*grad_approx(f,x)@pk) :#3.6.a, Wolfe cond\n",
    "        α = α*p\n",
    "    return α\n",
    "\n",
    "def fletcher_reeves(f,x,x_true,tol=1e-4,stop=4e+4,entertain=False):\n",
    "    \"\"\"x_true is an optimal x which is used for plots\n",
    "    plot is a callable plorring function of your choice\"\"\"\n",
    "    i, αk = 0, 1\n",
    "    \n",
    "    grad = grad_approx(f,x)#approximate gradient with the central difference coefficient\n",
    "    pk = -grad.T\n",
    "    x_iters = [x.reshape(-1,1)]\n",
    "    while not np.allclose(np.zeros(grad.shape),grad,atol=tol) and i<=stop:\n",
    "        #direction and alpha\n",
    "        αk = line_search2(f,x,pk)\n",
    "        #k+1\n",
    "        x_next = x+αk*pk\n",
    "        grad_next = grad_approx(f,x_next)    \n",
    "        βk = (grad_next@grad_next.T)/(grad@grad.T)\n",
    "        pk_next = -grad_next +βk*pk\n",
    "        \n",
    "        #reassign\n",
    "        x, grad, pk = x_next, grad_next, pk_next\n",
    "        i+=1\n",
    "        x_iters.append(x.reshape(-1,1))\n",
    "    return np.array(x_iters)"
   ]
  },
  {
   "cell_type": "markdown",
   "id": "1e1bd21e-4870-4840-a6b6-8616fa2a577b",
   "metadata": {},
   "source": [
    "### Quasi Newton: Symmetric Rank One \n",
    "---"
   ]
  },
  {
   "cell_type": "code",
   "execution_count": 489,
   "id": "0f749577-9526-4ee5-af07-26f40c2ac8db",
   "metadata": {},
   "outputs": [],
   "source": [
    "from scipy.optimize import minimize\n",
    "\n",
    "def alpha_search(f, x_curr, p):\n",
    "    fun = lambda alpha: f(x_curr - alpha * p)\n",
    "    res = minimize(fun, [0], method='Nelder-Mead')\n",
    "    return res.x[0]\n",
    "\n",
    "def sr1(f, grad, x_0, linesearch, alpha, n_iters):\n",
    "    B_curr = np.identity(2)\n",
    "    H_curr = np.linalg.inv(B_curr)\n",
    "    x_curr = x_0\n",
    "    x_new  = x_curr - alpha * grad(x_curr)\n",
    "    s_curr = x_new - x_curr\n",
    "    y_curr = grad(x_new) - grad(x_curr)\n",
    "    \n",
    "    x_iters_sr1 = [x_0]\n",
    "    \n",
    "    for i in range(1, n_iters):\n",
    "        g = grad(x_curr)\n",
    "        p = H_curr.dot(g)\n",
    "        \n",
    "        if linesearch: alpha = alpha_search(f, x_curr, p)\n",
    "        x_new = x_curr - alpha * p\n",
    "        \n",
    "        s_new = x_new - x_curr\n",
    "        y_new = grad(x_new) - grad(x_curr)\n",
    "        s_curr = s_new\n",
    "        y_curr = y_new\n",
    "        \n",
    "        b = y_curr - B_curr.dot(s_curr)\n",
    "        B_new = B_curr + b.dot(b.T) / (b.T.dot(s_curr) + 10**-8)\n",
    "        \n",
    "        a = s_curr - H_curr.dot(y_curr)\n",
    "        H_new = H_curr + a.dot(a.T) / (a.T.dot(y_curr) + 10**-8)\n",
    "        \n",
    "        r = 10**-8\n",
    "        if s_curr.T.dot(b) > r * np.sqrt(s_curr.T.dot(s_curr) * b.T.dot(b)):\n",
    "            H_curr = H_new\n",
    "            B_curr = B_new\n",
    "        \n",
    "        x_iters_sr1.append(x_new)\n",
    "        x_curr = x_new\n",
    "        \n",
    "    return np.array(x_iters_sr1)"
   ]
  },
  {
   "cell_type": "markdown",
   "id": "0055e294-633f-44dd-8b2e-220e52500ad0",
   "metadata": {},
   "source": [
    "### Broyden-Fletcher-Goldfarb-Shanno Algorithm\n",
    "---"
   ]
  },
  {
   "cell_type": "code",
   "execution_count": 490,
   "id": "4c7b6f48-1248-4081-bba0-07263e286545",
   "metadata": {},
   "outputs": [],
   "source": [
    "def bfgs(f, grad, x_0, line_search, alpha, n_iters):\n",
    "    H_curr = np.identity(2)\n",
    "    x_curr = x_0\n",
    "    x_new  = x_curr - alpha * grad(x_curr)\n",
    "    s_curr = x_new - x_curr\n",
    "    y_curr = grad(x_new) - grad(x_curr)\n",
    "    \n",
    "    x_iters_bfgs = [x_0]\n",
    "    \n",
    "    for i in range(1, n_iters):\n",
    "        g = grad(x_curr)\n",
    "        p = H_curr.dot(g)\n",
    "        \n",
    "        if line_search: alpha = alpha_search(f, x_curr, p)\n",
    "        x_new = x_curr - alpha * p\n",
    "        \n",
    "        # s u y\n",
    "        s_new = x_new - x_curr\n",
    "        y_new = grad(x_new) - grad(x_curr)\n",
    "        s_curr = s_new\n",
    "        y_curr = y_new\n",
    "        \n",
    "        # H\n",
    "        pho = 1. / (y_curr.T.dot(s_curr) + 10**-8)\n",
    "        a = np.identity(2) - pho * s_curr.dot(y_curr.T)\n",
    "        b = np.identity(2) - pho * y_curr.dot(s_curr.T)\n",
    "        H_new = a.dot( H_curr.dot(b) ) + pho * s_curr.dot(s_curr.T)\n",
    "        H_curr = H_new\n",
    "        \n",
    "        x_iters_bfgs.append(x_new)\n",
    "        x_curr = x_new\n",
    "        \n",
    "    return np.array(x_iters_bfgs)"
   ]
  },
  {
   "cell_type": "markdown",
   "id": "071ac74c-0ed9-44ed-9d16-9cb4348fe6ab",
   "metadata": {},
   "source": [
    "### Trust Region Method\n",
    "---"
   ]
  },
  {
   "cell_type": "code",
   "execution_count": 491,
   "id": "f9d25550-09c9-424e-81e0-1f4621654353",
   "metadata": {},
   "outputs": [],
   "source": [
    "import numpy as np\n",
    "import numpy.linalg as ln\n",
    "import scipy as sp\n",
    "from math import sqrt\n",
    "\n",
    "def dogleg_method(Hk, gk, Bk, trust_radius):\n",
    "    pB = -np.dot(Hk, gk)\n",
    "    norm_pB = sqrt(np.dot(pB, pB))\n",
    "\n",
    "    if norm_pB <= trust_radius:\n",
    "        return pB\n",
    "\n",
    "    pU = - (np.dot(gk, gk) / np.dot(gk, np.dot(Bk, gk))) * gk\n",
    "    dot_pU = np.dot(pU, pU)\n",
    "    norm_pU = sqrt(dot_pU)\n",
    "\n",
    "    if norm_pU >= trust_radius:\n",
    "        return trust_radius * pU / norm_pU\n",
    "\n",
    "    pB_pU = pB - pU\n",
    "    dot_pB_pU = np.dot(pB_pU, pB_pU)\n",
    "    dot_pU_pB_pU = np.dot(pU, pB_pU)\n",
    "    fact = dot_pU_pB_pU ** 2 - dot_pB_pU * (dot_pU - trust_radius ** 2)\n",
    "    tau = (-dot_pU_pB_pU + sqrt(fact)) / dot_pB_pU\n",
    "\n",
    "    return pU + tau * pB_pU\n",
    "\n",
    "\n",
    "def trust_region_dogleg(func, jac, hess, x0, initial_trust_radius=1.0,\n",
    "                        max_trust_radius=100.0, eta=0.15, gtol=1e-4,\n",
    "                        maxiter=100):\n",
    "    xk = x0\n",
    "    trust_radius = initial_trust_radius\n",
    "    k = 0\n",
    "    x_iters = [xk.reshape(-1,1)]\n",
    "    while True:\n",
    "        gk = jac(xk)\n",
    "        Bk = hess(xk)\n",
    "        Hk = np.linalg.inv(Bk)\n",
    "\n",
    "        pk = dogleg_method(Hk, gk, Bk, trust_radius)\n",
    "\n",
    "        act_red = func(xk) - func(xk + pk)\n",
    "\n",
    "        pred_red = -(np.dot(gk, pk) + 0.5 * np.dot(pk, np.dot(Bk, pk)))\n",
    "\n",
    "        rhok = act_red / pred_red\n",
    "        if pred_red == 0.0:\n",
    "            rhok = 1e99\n",
    "        else:\n",
    "            rhok = act_red / pred_red\n",
    "\n",
    "        norm_pk = sqrt(np.dot(pk, pk))\n",
    "\n",
    "        if rhok < 0.25:\n",
    "            trust_radius = 0.25 * norm_pk\n",
    "        else:\n",
    "            if rhok > 0.75 and norm_pk == trust_radius:\n",
    "                trust_radius = min(2.0 * trust_radius, max_trust_radius)\n",
    "            else:\n",
    "                trust_radius = trust_radius\n",
    "\n",
    "        if rhok > eta:\n",
    "            xk = xk + pk\n",
    "        else:\n",
    "            xk = xk\n",
    "            \n",
    "        x_iters.append(xk.reshape(-1,1))\n",
    "        \n",
    "        if ln.norm(gk) < gtol:\n",
    "            break\n",
    "\n",
    "        if k >= maxiter:\n",
    "            break\n",
    "        k = k + 1\n",
    "    return np.array(x_iters)\n"
   ]
  },
  {
   "cell_type": "markdown",
   "id": "f9564916-e622-4ccb-b70b-e583b2bb5515",
   "metadata": {},
   "source": [
    "# 6) 2 Variables Order 4 Polynomial \n",
    "---"
   ]
  },
  {
   "cell_type": "markdown",
   "id": "31cad311-50b2-44ba-9124-70b092740d36",
   "metadata": {},
   "source": [
    "$$\n",
    "f(x) = x_1^4 + x_2^4 + 2x_1 x_2 + 0.5 \n",
    "$$\n",
    "\n",
    "+ function has 2 local minimas"
   ]
  },
  {
   "cell_type": "code",
   "execution_count": 492,
   "id": "1846344d-4079-4333-ba1d-a6054620141e",
   "metadata": {},
   "outputs": [],
   "source": [
    "# define objective function\n",
    "def f(x):\n",
    "    x1 = x[0]\n",
    "    x2 = x[1]\n",
    "    obj = x1**4 - 2.0 * x1 * x2 + 4 * x2**4 + 0.5\n",
    "    return obj\n",
    "\n",
    "# define objective gradient\n",
    "def grad(x):\n",
    "    x1 = x[0]\n",
    "    x2 = x[1]\n",
    "    grad = np.array([4.0 * x1 ** 3 - 2.0 * x2, -2.0 * x1 + 16.0 * x2 ** 3])\n",
    "    return grad\n",
    "\n",
    "# Exact 2nd derivatives (hessian)\n",
    "def hess(x):\n",
    "    x1 = x[0]\n",
    "    x2 = x[1]\n",
    "    H = np.array([[12.0 * x1 ** 2, -2.0], [-2.0, 48.0 * x2 ** 2]])\n",
    "    return H"
   ]
  },
  {
   "cell_type": "code",
   "execution_count": 493,
   "id": "975190aa-e8e9-4cfc-9578-8e0024f84b8c",
   "metadata": {},
   "outputs": [],
   "source": [
    "x_start = np.array([-1.4, -0.5])"
   ]
  },
  {
   "cell_type": "code",
   "execution_count": 494,
   "id": "1342c575-12c9-47b1-a12c-10ee7abd87e9",
   "metadata": {},
   "outputs": [],
   "source": [
    "x_gr = gradient_descent(f, grad, x_start.reshape(-1,1))"
   ]
  },
  {
   "cell_type": "code",
   "execution_count": 495,
   "id": "e721287d-28ea-4928-934b-e3918e2b6a7b",
   "metadata": {},
   "outputs": [],
   "source": [
    "x_n = newton_method(x_start, f, grad, hess)"
   ]
  },
  {
   "cell_type": "code",
   "execution_count": 496,
   "id": "1cc5bdcb-9ab2-4fa2-a015-0df7ac3a47b4",
   "metadata": {},
   "outputs": [],
   "source": [
    "x_fr = fletcher_reeves(f=f, x=x_start, x_true=None, tol=1e-4, stop=1e+2)"
   ]
  },
  {
   "cell_type": "code",
   "execution_count": 497,
   "id": "e14adb0e-6441-4c1a-b84d-0c04c027d8de",
   "metadata": {},
   "outputs": [],
   "source": [
    "x_sr1 = sr1(f, grad, x_start, linesearch=True, alpha=0.1, n_iters=100)"
   ]
  },
  {
   "cell_type": "code",
   "execution_count": 498,
   "id": "0daf4707-1663-4931-93e1-e817de1aa45f",
   "metadata": {},
   "outputs": [],
   "source": [
    "x_bfgs = bfgs(f, grad, x_start, line_search=True, alpha=0.1, n_iters=100)"
   ]
  },
  {
   "cell_type": "code",
   "execution_count": 499,
   "id": "5b285426-bed2-4feb-8095-5a6803ab5849",
   "metadata": {},
   "outputs": [],
   "source": [
    "x_trust = trust_region_dogleg(f, grad, hess, x_start)"
   ]
  },
  {
   "cell_type": "code",
   "execution_count": 500,
   "id": "4cd0b0b2-e558-45de-be0e-020c86a2c831",
   "metadata": {},
   "outputs": [
    {
     "data": {
      "text/plain": [
       "<matplotlib.legend.Legend at 0x1711e472b88>"
      ]
     },
     "execution_count": 500,
     "metadata": {},
     "output_type": "execute_result"
    },
    {
     "data": {
      "image/png": "[encoded data removed]",
      "text/plain": [
       "<Figure size 792x432 with 2 Axes>"
      ]
     },
     "metadata": {},
     "output_type": "display_data"
    }
   ],
   "source": [
    "r = 1.5\n",
    "plot_2d_function(f, x1_range=[-r, r], x2_range=[-r, r])\n",
    "add_opt_path(x_gr, color=\"black\",color2=\"black\", label=\"Gradient Descent\")\n",
    "add_opt_path(x_n, color=\"white\",color2=\"white\", label=\"Newton Method\")\n",
    "add_opt_path(x_fr, color=\"blue\",color2=\"blue\", label=\"Conjugent Gradient\")\n",
    "add_opt_path(x_sr1, color=\"green\",color2=\"green\", label=\"Symmetric Rank one\")\n",
    "add_opt_path(x_bfgs, color=\"brown\",color2=\"brown\", label=\"BFGS\")\n",
    "add_opt_path(x_bfgs, color=\"yellow\",color2=\"yellow\", label=\"Trust Region\")\n",
    "plt.legend()"
   ]
  },
  {
   "cell_type": "code",
   "execution_count": 501,
   "id": "fdcfd6c4-d17c-4ce6-bdfe-58a39aea8c7e",
   "metadata": {},
   "outputs": [
    {
     "data": {
      "text/html": [
       "<style  type=\"text/css\" >\n",
       "    #T_12b41_ th {\n",
       "          font-size: 18px;\n",
       "    }    #T_12b41_ td {\n",
       "          font-size: 16px;\n",
       "    }</style><table id=\"T_12b41_\" ><thead>    <tr>        <th class=\"blank level0\" ></th>        <th class=\"col_heading level0 col0\" >minima</th>        <th class=\"col_heading level0 col1\" >gradient descent</th>        <th class=\"col_heading level0 col2\" >newton method</th>        <th class=\"col_heading level0 col3\" >conjugent gradient</th>        <th class=\"col_heading level0 col4\" >symmetric rank one</th>        <th class=\"col_heading level0 col5\" >bfgs</th>        <th class=\"col_heading level0 col6\" >trust region</th>    </tr></thead><tbody>\n",
       "                <tr>\n",
       "                        <th id=\"T_12b41_level0_row0\" class=\"row_heading level0 row0\" >0</th>\n",
       "                        <td id=\"T_12b41_row0_col0\" class=\"data row0 col0\" >-0.590000</td>\n",
       "                        <td id=\"T_12b41_row0_col1\" class=\"data row0 col1\" >-0.618294</td>\n",
       "                        <td id=\"T_12b41_row0_col2\" class=\"data row0 col2\" >-0.594630</td>\n",
       "                        <td id=\"T_12b41_row0_col3\" class=\"data row0 col3\" >-0.594621</td>\n",
       "                        <td id=\"T_12b41_row0_col4\" class=\"data row0 col4\" >-0.639252</td>\n",
       "                        <td id=\"T_12b41_row0_col5\" class=\"data row0 col5\" >-0.594603</td>\n",
       "                        <td id=\"T_12b41_row0_col6\" class=\"data row0 col6\" >-0.594604</td>\n",
       "            </tr>\n",
       "            <tr>\n",
       "                        <th id=\"T_12b41_level0_row1\" class=\"row_heading level0 row1\" >1</th>\n",
       "                        <td id=\"T_12b41_row1_col0\" class=\"data row1 col0\" >-0.420000</td>\n",
       "                        <td id=\"T_12b41_row1_col1\" class=\"data row1 col1\" >-0.429785</td>\n",
       "                        <td id=\"T_12b41_row1_col2\" class=\"data row1 col2\" >-0.420459</td>\n",
       "                        <td id=\"T_12b41_row1_col3\" class=\"data row1 col3\" >-0.420459</td>\n",
       "                        <td id=\"T_12b41_row1_col4\" class=\"data row1 col4\" >-0.496031</td>\n",
       "                        <td id=\"T_12b41_row1_col5\" class=\"data row1 col5\" >-0.420448</td>\n",
       "                        <td id=\"T_12b41_row1_col6\" class=\"data row1 col6\" >-0.420448</td>\n",
       "            </tr>\n",
       "    </tbody></table>"
      ],
      "text/plain": [
       "<pandas.io.formats.style.Styler at 0x1711e621d88>"
      ]
     },
     "execution_count": 501,
     "metadata": {},
     "output_type": "execute_result"
    }
   ],
   "source": [
    "minima_solution_checked_per_geogebra = [-0.59,-0.42]\n",
    "data={\"minima\":minima_solution_checked_per_geogebra,\"gradient descent\":x_gr[-1].flatten(),\"newton method\":x_n[-1].flatten(),\"conjugent gradient\":x_fr[-1].flatten(),\n",
    "      \"symmetric rank one\":x_sr1[-1].flatten(),\"bfgs\":x_bfgs[-1].flatten(),\"trust region\":x_trust[-1].flatten()}\n",
    "df = pd.DataFrame(data, columns=[\"minima\",\"gradient descent\",\"newton method\",\"conjugent gradient\",\"symmetric rank one\",\"bfgs\",\"trust region\"])\n",
    "\n",
    "heading_properties = [('font-size', '18px')]\n",
    "\n",
    "cell_properties = [('font-size', '16px')]\n",
    "\n",
    "dfstyle = [dict(selector=\"th\", props=heading_properties),\\\n",
    " dict(selector=\"td\", props=cell_properties)]\n",
    "\n",
    "df.style.set_table_styles(dfstyle)"
   ]
  },
  {
   "cell_type": "markdown",
   "id": "ae87cc38-cb79-49e8-98fb-04e74983dda9",
   "metadata": {},
   "source": [
    "# 7) Polynomial 2 Variables order 3\n",
    "---\n",
    "\n",
    "$$\n",
    "f(x) = x_1^3 + 8x_2^3 + 6x_1 x_2 + 5 \n",
    "$$\n",
    "\n",
    "+ maybe it would have been cleverer not to choose such a hard polynomial "
   ]
  },
  {
   "cell_type": "code",
   "execution_count": 502,
   "id": "bb34d1c4-90a0-4564-a1df-8b05890b832c",
   "metadata": {},
   "outputs": [],
   "source": [
    "def f(x):\n",
    "    y = np.power(x[0], 3) + 8*np.power(x[1], 3) - 6*x[0]*x[1] + 5\n",
    "    return y\n",
    "\n",
    "def grad(x):\n",
    "    return np.array([3*np.power(x[0],2) - 6*x[1], 24*np.power(x[1], 2) - 6*x[0]])\n",
    "\n",
    "def hess(x):\n",
    "    return np.array([[6*x[0], -6],[-6, 48*x[1]]])"
   ]
  },
  {
   "cell_type": "code",
   "execution_count": 503,
   "id": "f77c3026-3d16-4a6f-af8b-851fd8f96f49",
   "metadata": {},
   "outputs": [],
   "source": [
    "x_start = np.array([2, 0.5])"
   ]
  },
  {
   "cell_type": "code",
   "execution_count": 504,
   "id": "c48734a0-a05f-4e68-b164-ed793a5b513a",
   "metadata": {},
   "outputs": [],
   "source": [
    "x_gr = gradient_descent(f, grad, np.array([2, 0.5]).reshape(-1,1))"
   ]
  },
  {
   "cell_type": "code",
   "execution_count": 505,
   "id": "29684e96-4024-4393-9675-b047fac71ab8",
   "metadata": {},
   "outputs": [],
   "source": [
    "# extreme case where overflow occurs for other starting values\n",
    "x_n = newton_method(np.array([1.09, 0.5]), f, grad, hess, tol=0.4)"
   ]
  },
  {
   "cell_type": "code",
   "execution_count": 506,
   "id": "174c32f2-bf9a-4bba-922a-4528ea2e3028",
   "metadata": {},
   "outputs": [],
   "source": [
    "# extreme case where overflow occurs for other starting values\n",
    "x_fr = fletcher_reeves(f=f, x=np.array([1.09, 0.5]), x_true=None, tol=1e-4, stop=1e+2)"
   ]
  },
  {
   "cell_type": "code",
   "execution_count": 507,
   "id": "1c54f348-d242-485d-94e7-1448bd1aadc9",
   "metadata": {},
   "outputs": [],
   "source": [
    "x_sr1 = sr1(f, grad, x_start, linesearch=True, alpha=0.1, n_iters=100)"
   ]
  },
  {
   "cell_type": "code",
   "execution_count": 508,
   "id": "196eb239-3bb5-4f36-9db7-e6cc19dc9fa1",
   "metadata": {},
   "outputs": [],
   "source": [
    "x_bfgs = bfgs(f, grad, x_start, line_search=True, alpha=0.1, n_iters=100)"
   ]
  },
  {
   "cell_type": "code",
   "execution_count": 509,
   "id": "80099e1c-5eb5-4173-b826-034041c2e7c4",
   "metadata": {},
   "outputs": [],
   "source": [
    "x_trust = trust_region_dogleg(f, grad, hess, x_start)"
   ]
  },
  {
   "cell_type": "code",
   "execution_count": 510,
   "id": "e2f209da-40bb-4475-8763-144657cedbc8",
   "metadata": {},
   "outputs": [
    {
     "data": {
      "text/plain": [
       "<matplotlib.legend.Legend at 0x1711e621488>"
      ]
     },
     "execution_count": 510,
     "metadata": {},
     "output_type": "execute_result"
    },
    {
     "data": {
      "image/png": "[encoded data removed]",
      "text/plain": [
       "<Figure size 792x432 with 2 Axes>"
      ]
     },
     "metadata": {},
     "output_type": "display_data"
    }
   ],
   "source": [
    "r = 3\n",
    "plot_2d_function(f, x1_range=[-r, r], x2_range=[-r, r])\n",
    "add_opt_path(x_gr, color=\"black\",color2=\"black\", label=\"Gradient Descent\")\n",
    "add_opt_path(x_n, color=\"white\",color2=\"white\", label=\"Newton Method\")\n",
    "add_opt_path(x_fr, color=\"blue\",color2=\"blue\", label=\"Conjugent Gradient\")\n",
    "add_opt_path(x_sr1, color=\"green\",color2=\"green\", label=\"Symmetric Rank one\")\n",
    "add_opt_path(x_bfgs, color=\"brown\",color2=\"brown\", label=\"BFGS\")\n",
    "add_opt_path(x_bfgs, color=\"yellow\",color2=\"yellow\", label=\"Trust Region\")\n",
    "plt.legend()"
   ]
  },
  {
   "cell_type": "code",
   "execution_count": 511,
   "id": "31d8e043-bc80-415a-b1a3-78f48dd36526",
   "metadata": {},
   "outputs": [
    {
     "data": {
      "text/html": [
       "<style  type=\"text/css\" >\n",
       "    #T_6eea1_ th {\n",
       "          font-size: 18px;\n",
       "    }    #T_6eea1_ td {\n",
       "          font-size: 16px;\n",
       "    }</style><table id=\"T_6eea1_\" ><thead>    <tr>        <th class=\"blank level0\" ></th>        <th class=\"col_heading level0 col0\" >minima</th>        <th class=\"col_heading level0 col1\" >gradient descent</th>        <th class=\"col_heading level0 col2\" >newton method</th>        <th class=\"col_heading level0 col3\" >conjugent gradient</th>        <th class=\"col_heading level0 col4\" >symmetric rank one</th>        <th class=\"col_heading level0 col5\" >bfgs</th>        <th class=\"col_heading level0 col6\" >trust region</th>    </tr></thead><tbody>\n",
       "                <tr>\n",
       "                        <th id=\"T_6eea1_level0_row0\" class=\"row_heading level0 row0\" >0</th>\n",
       "                        <td id=\"T_6eea1_row0_col0\" class=\"data row0 col0\" >1.000000</td>\n",
       "                        <td id=\"T_6eea1_row0_col1\" class=\"data row0 col1\" >1.018790</td>\n",
       "                        <td id=\"T_6eea1_row0_col2\" class=\"data row0 col2\" >1.079690</td>\n",
       "                        <td id=\"T_6eea1_row0_col3\" class=\"data row0 col3\" >1.000017</td>\n",
       "                        <td id=\"T_6eea1_row0_col4\" class=\"data row0 col4\" >1.000000</td>\n",
       "                        <td id=\"T_6eea1_row0_col5\" class=\"data row0 col5\" >1.000004</td>\n",
       "                        <td id=\"T_6eea1_row0_col6\" class=\"data row0 col6\" >1.000000</td>\n",
       "            </tr>\n",
       "            <tr>\n",
       "                        <th id=\"T_6eea1_level0_row1\" class=\"row_heading level0 row1\" >1</th>\n",
       "                        <td id=\"T_6eea1_row1_col0\" class=\"data row1 col0\" >0.500000</td>\n",
       "                        <td id=\"T_6eea1_row1_col1\" class=\"data row1 col1\" >0.505664</td>\n",
       "                        <td id=\"T_6eea1_row1_col2\" class=\"data row1 col2\" >0.519761</td>\n",
       "                        <td id=\"T_6eea1_row1_col3\" class=\"data row1 col3\" >0.499819</td>\n",
       "                        <td id=\"T_6eea1_row1_col4\" class=\"data row1 col4\" >0.500000</td>\n",
       "                        <td id=\"T_6eea1_row1_col5\" class=\"data row1 col5\" >0.500002</td>\n",
       "                        <td id=\"T_6eea1_row1_col6\" class=\"data row1 col6\" >0.500000</td>\n",
       "            </tr>\n",
       "    </tbody></table>"
      ],
      "text/plain": [
       "<pandas.io.formats.style.Styler at 0x1711e61c848>"
      ]
     },
     "execution_count": 511,
     "metadata": {},
     "output_type": "execute_result"
    }
   ],
   "source": [
    "minima_solution_checked_per_geogebra = [1,0.5]\n",
    "data={\"minima\":minima_solution_checked_per_geogebra,\"gradient descent\":x_gr[-1].flatten(),\"newton method\":x_n[-1].flatten(),\"conjugent gradient\":x_fr[-1].flatten(),\n",
    "      \"symmetric rank one\":x_sr1[-1].flatten(),\"bfgs\":x_bfgs[-1].flatten(),\"trust region\":x_trust[-1].flatten()}\n",
    "df = pd.DataFrame(data, columns=[\"minima\",\"gradient descent\",\"newton method\",\"conjugent gradient\",\"symmetric rank one\",\"bfgs\",\"trust region\"])\n",
    "\n",
    "heading_properties = [('font-size', '18px')]\n",
    "\n",
    "cell_properties = [('font-size', '16px')]\n",
    "\n",
    "dfstyle = [dict(selector=\"th\", props=heading_properties),\\\n",
    " dict(selector=\"td\", props=cell_properties)]\n",
    "\n",
    "df.style.set_table_styles(dfstyle)"
   ]
  },
  {
   "cell_type": "markdown",
   "id": "1ce19b16-39f2-4868-a436-01604d25435b",
   "metadata": {},
   "source": [
    "# 8) Polynomial 2 Variables sine\n",
    "---\n",
    "\n",
    "$$\n",
    "f(x) = sin(x) sin(y)\n",
    "$$"
   ]
  },
  {
   "cell_type": "code",
   "execution_count": 512,
   "id": "bafbb26e-b1b2-40ba-b3ad-b9ee92fdcd1b",
   "metadata": {},
   "outputs": [],
   "source": [
    "def f(x):\n",
    "    return np.sin(x[0]) * np.sin(x[1])\n",
    "\n",
    "def grad(x):\n",
    "    return np.array([np.cos(x[0])*np.sin(x[1]), np.sin(x[0])*np.cos(x[1])])\n",
    "\n",
    "def hess(x):\n",
    "    return np.array([[-np.sin(x[0])*np.sin(x[1]), np.cos(x[0])*np.cos(x[1])], \n",
    "                       [np.cos(x[0])*np.cos(x[1]), np.sin(x[0])*-np.sin(x[1])]])"
   ]
  },
  {
   "cell_type": "code",
   "execution_count": 513,
   "id": "55f4e56e-1357-48cf-acdf-0bf415406234",
   "metadata": {},
   "outputs": [],
   "source": [
    "x_start = np.array([1, -1])"
   ]
  },
  {
   "cell_type": "code",
   "execution_count": 514,
   "id": "146e8081-2826-40ff-a3a0-3382f1be63c6",
   "metadata": {},
   "outputs": [],
   "source": [
    "x_gr = gradient_descent(f, grad, x_start.reshape(-1,1))"
   ]
  },
  {
   "cell_type": "code",
   "execution_count": 515,
   "id": "bcfd4ec2-6963-4cd0-9a6f-16f2e8ac47f1",
   "metadata": {},
   "outputs": [],
   "source": [
    "x_n = newton_method(x_start, f, grad, hess, tol=0.4)"
   ]
  },
  {
   "cell_type": "code",
   "execution_count": 516,
   "id": "a1d6c095-ecb4-474d-ae06-4edfc0ee3a47",
   "metadata": {},
   "outputs": [],
   "source": [
    "x_fr = fletcher_reeves(f=f, x=x_start, x_true=None, tol=1e-4, stop=1e+2)"
   ]
  },
  {
   "cell_type": "code",
   "execution_count": 517,
   "id": "3eef986a-6d13-4509-8512-4924a83a76a6",
   "metadata": {},
   "outputs": [],
   "source": [
    "x_sr1 = sr1(f, grad, x_start, linesearch=True, alpha=0.1, n_iters=100)"
   ]
  },
  {
   "cell_type": "code",
   "execution_count": 518,
   "id": "2b28560a-47b4-40d5-9097-786442f6ece1",
   "metadata": {},
   "outputs": [],
   "source": [
    "x_bfgs = bfgs(f, grad, x_start, line_search=True, alpha=0.1, n_iters=100)"
   ]
  },
  {
   "cell_type": "code",
   "execution_count": 519,
   "id": "798027f7-d645-4ad1-afa7-dea2a2db45f4",
   "metadata": {},
   "outputs": [],
   "source": [
    "x_trust = trust_region_dogleg(f, grad, hess, x_start)"
   ]
  },
  {
   "cell_type": "code",
   "execution_count": 520,
   "id": "2e7afa2b-a1e7-482d-a382-62924ee3bf9b",
   "metadata": {},
   "outputs": [
    {
     "data": {
      "text/html": [
       "<style  type=\"text/css\" >\n",
       "    #T_fa25b_ th {\n",
       "          font-size: 18px;\n",
       "    }    #T_fa25b_ td {\n",
       "          font-size: 16px;\n",
       "    }</style><table id=\"T_fa25b_\" ><thead>    <tr>        <th class=\"blank level0\" ></th>        <th class=\"col_heading level0 col0\" >minima</th>        <th class=\"col_heading level0 col1\" >gradient descent</th>        <th class=\"col_heading level0 col2\" >newton method</th>        <th class=\"col_heading level0 col3\" >conjugent gradient</th>        <th class=\"col_heading level0 col4\" >symmetric rank one</th>        <th class=\"col_heading level0 col5\" >bfgs</th>        <th class=\"col_heading level0 col6\" >trust region</th>    </tr></thead><tbody>\n",
       "                <tr>\n",
       "                        <th id=\"T_fa25b_level0_row0\" class=\"row_heading level0 row0\" >0</th>\n",
       "                        <td id=\"T_fa25b_row0_col0\" class=\"data row0 col0\" >1.570796</td>\n",
       "                        <td id=\"T_fa25b_row0_col1\" class=\"data row0 col1\" >1.507206</td>\n",
       "                        <td id=\"T_fa25b_row0_col2\" class=\"data row0 col2\" >1.315778</td>\n",
       "                        <td id=\"T_fa25b_row0_col3\" class=\"data row0 col3\" >1.570744</td>\n",
       "                        <td id=\"T_fa25b_row0_col4\" class=\"data row0 col4\" >1.570796</td>\n",
       "                        <td id=\"T_fa25b_row0_col5\" class=\"data row0 col5\" >1.570796</td>\n",
       "                        <td id=\"T_fa25b_row0_col6\" class=\"data row0 col6\" >1.570796</td>\n",
       "            </tr>\n",
       "            <tr>\n",
       "                        <th id=\"T_fa25b_level0_row1\" class=\"row_heading level0 row1\" >1</th>\n",
       "                        <td id=\"T_fa25b_row1_col0\" class=\"data row1 col0\" >-1.570796</td>\n",
       "                        <td id=\"T_fa25b_row1_col1\" class=\"data row1 col1\" >-1.507206</td>\n",
       "                        <td id=\"T_fa25b_row1_col2\" class=\"data row1 col2\" >-1.315778</td>\n",
       "                        <td id=\"T_fa25b_row1_col3\" class=\"data row1 col3\" >-1.570744</td>\n",
       "                        <td id=\"T_fa25b_row1_col4\" class=\"data row1 col4\" >-1.570796</td>\n",
       "                        <td id=\"T_fa25b_row1_col5\" class=\"data row1 col5\" >-1.570796</td>\n",
       "                        <td id=\"T_fa25b_row1_col6\" class=\"data row1 col6\" >-1.570796</td>\n",
       "            </tr>\n",
       "    </tbody></table>"
      ],
      "text/plain": [
       "<pandas.io.formats.style.Styler at 0x1711e8a2048>"
      ]
     },
     "execution_count": 520,
     "metadata": {},
     "output_type": "execute_result"
    }
   ],
   "source": [
    "minima_solution_checked_per_geogebra = [np.pi/2,-np.pi/2]\n",
    "data={\"minima\":minima_solution_checked_per_geogebra,\"gradient descent\":x_gr[-1].flatten(),\"newton method\":x_n[-1].flatten(),\"conjugent gradient\":x_fr[-1].flatten(),\n",
    "      \"symmetric rank one\":x_sr1[-1].flatten(),\"bfgs\":x_bfgs[-1].flatten(),\"trust region\":x_trust[-1].flatten()}\n",
    "df = pd.DataFrame(data, columns=[\"minima\",\"gradient descent\",\"newton method\",\"conjugent gradient\",\"symmetric rank one\",\"bfgs\",\"trust region\"])\n",
    "\n",
    "heading_properties = [('font-size', '18px')]\n",
    "\n",
    "cell_properties = [('font-size', '16px')]\n",
    "\n",
    "dfstyle = [dict(selector=\"th\", props=heading_properties),\\\n",
    " dict(selector=\"td\", props=cell_properties)]\n",
    "\n",
    "df.style.set_table_styles(dfstyle)"
   ]
  },
  {
   "cell_type": "markdown",
   "id": "31639712-1ba3-4ffb-bd66-78c9b869f3f4",
   "metadata": {},
   "source": [
    "# 9) Polynomial 2 Variables order 4\n",
    "---\n",
    "\n",
    "$$\n",
    "f(x) = x^4 + y^4\n",
    "$$"
   ]
  },
  {
   "cell_type": "code",
   "execution_count": 521,
   "id": "46ded8c9-1ac8-4d99-96c4-a06a0933ac24",
   "metadata": {},
   "outputs": [],
   "source": [
    "def f(x):\n",
    "    return x[0]**4 + x[1]**4\n",
    "\n",
    "def grad(x):\n",
    "    return np.array([4*x[0]**3, 4*x[1]**3])\n",
    "\n",
    "def hess(x):\n",
    "    return np.array([[12*x[0]**2, 0],[0, 12*x[1]**2]])"
   ]
  },
  {
   "cell_type": "code",
   "execution_count": 522,
   "id": "ddecf078-b6c4-4d87-bfdd-6aa1a81cd423",
   "metadata": {},
   "outputs": [],
   "source": [
    "x_start = np.array([1, 2])"
   ]
  },
  {
   "cell_type": "code",
   "execution_count": 523,
   "id": "5c905fbd-d649-4350-8648-aa9e5e826dae",
   "metadata": {},
   "outputs": [],
   "source": [
    "x_gr = gradient_descent(f, grad, x_start.reshape(-1,1), tol=1e-3)"
   ]
  },
  {
   "cell_type": "code",
   "execution_count": 524,
   "id": "9bb7e8b2-3aef-40fa-8966-fc3e48d66917",
   "metadata": {},
   "outputs": [],
   "source": [
    "x_n = newton_method(x_start, f, grad, hess, tol=1e-4)"
   ]
  },
  {
   "cell_type": "code",
   "execution_count": 525,
   "id": "7f999985-c302-425b-ad1f-e4fa3e1e3908",
   "metadata": {},
   "outputs": [],
   "source": [
    "x_fr = fletcher_reeves(f=f, x=x_start, x_true=None, tol=1e-1, stop=1e+2)"
   ]
  },
  {
   "cell_type": "code",
   "execution_count": 526,
   "id": "214de08d-ca8c-470a-a9b7-bdcc6eb97eab",
   "metadata": {},
   "outputs": [],
   "source": [
    "x_sr1 = sr1(f, grad, x_start, linesearch=True, alpha=0.1, n_iters=100)"
   ]
  },
  {
   "cell_type": "code",
   "execution_count": 527,
   "id": "86453972-e565-4a5c-8773-e2da52432a66",
   "metadata": {},
   "outputs": [],
   "source": [
    "x_bfgs = bfgs(f, grad, x_start, line_search=True, alpha=0.1, n_iters=100)"
   ]
  },
  {
   "cell_type": "code",
   "execution_count": 528,
   "id": "b70db8ed-dfc2-454e-a603-ddffe3eff2e5",
   "metadata": {},
   "outputs": [],
   "source": [
    "x_trust = trust_region_dogleg(f, grad, hess, x_start)"
   ]
  },
  {
   "cell_type": "code",
   "execution_count": 529,
   "id": "ecd3c433-51c9-42d1-93e6-29862338fad6",
   "metadata": {},
   "outputs": [
    {
     "data": {
      "text/plain": [
       "<matplotlib.legend.Legend at 0x1711e86e148>"
      ]
     },
     "execution_count": 529,
     "metadata": {},
     "output_type": "execute_result"
    },
    {
     "data": {
      "image/png": "[encoded data removed]",
      "text/plain": [
       "<Figure size 792x432 with 2 Axes>"
      ]
     },
     "metadata": {},
     "output_type": "display_data"
    }
   ],
   "source": [
    "r = 3\n",
    "plot_2d_function(f, x1_range=[-r, r], x2_range=[-r, r])\n",
    "add_opt_path(x_gr, color=\"black\",color2=\"black\", label=\"Gradient Descent\")\n",
    "add_opt_path(x_n, color=\"white\",color2=\"white\", label=\"Newton Method\")\n",
    "add_opt_path(x_fr, color=\"blue\",color2=\"blue\", label=\"Conjugent Gradient\")\n",
    "add_opt_path(x_sr1, color=\"green\",color2=\"green\", label=\"Symmetric Rank one\")\n",
    "add_opt_path(x_bfgs, color=\"brown\",color2=\"brown\", label=\"BFGS\")\n",
    "add_opt_path(x_bfgs, color=\"yellow\",color2=\"yellow\", label=\"Trust Region\")\n",
    "plt.legend()"
   ]
  },
  {
   "cell_type": "code",
   "execution_count": 530,
   "id": "58dd4de9-e905-40b2-aa1f-469d7d0bccc1",
   "metadata": {},
   "outputs": [
    {
     "data": {
      "text/html": [
       "<style  type=\"text/css\" >\n",
       "    #T_514f1_ th {\n",
       "          font-size: 18px;\n",
       "    }    #T_514f1_ td {\n",
       "          font-size: 16px;\n",
       "    }</style><table id=\"T_514f1_\" ><thead>    <tr>        <th class=\"blank level0\" ></th>        <th class=\"col_heading level0 col0\" >minima</th>        <th class=\"col_heading level0 col1\" >gradient descent</th>        <th class=\"col_heading level0 col2\" >newton method</th>        <th class=\"col_heading level0 col3\" >conjugent gradient</th>        <th class=\"col_heading level0 col4\" >symmetric rank one</th>        <th class=\"col_heading level0 col5\" >bfgs</th>        <th class=\"col_heading level0 col6\" >trust region</th>    </tr></thead><tbody>\n",
       "                <tr>\n",
       "                        <th id=\"T_514f1_level0_row0\" class=\"row_heading level0 row0\" >0</th>\n",
       "                        <td id=\"T_514f1_row0_col0\" class=\"data row0 col0\" >0</td>\n",
       "                        <td id=\"T_514f1_row0_col1\" class=\"data row0 col1\" >0.055732</td>\n",
       "                        <td id=\"T_514f1_row0_col2\" class=\"data row0 col2\" >0.092920</td>\n",
       "                        <td id=\"T_514f1_row0_col3\" class=\"data row0 col3\" >-0.008587</td>\n",
       "                        <td id=\"T_514f1_row0_col4\" class=\"data row0 col4\" >0.000000</td>\n",
       "                        <td id=\"T_514f1_row0_col5\" class=\"data row0 col5\" >0.000002</td>\n",
       "                        <td id=\"T_514f1_row0_col6\" class=\"data row0 col6\" >0.007707</td>\n",
       "            </tr>\n",
       "            <tr>\n",
       "                        <th id=\"T_514f1_level0_row1\" class=\"row_heading level0 row1\" >1</th>\n",
       "                        <td id=\"T_514f1_row1_col0\" class=\"data row1 col0\" >0</td>\n",
       "                        <td id=\"T_514f1_row1_col1\" class=\"data row1 col1\" >0.055769</td>\n",
       "                        <td id=\"T_514f1_row1_col2\" class=\"data row1 col2\" >0.092921</td>\n",
       "                        <td id=\"T_514f1_row1_col3\" class=\"data row1 col3\" >-0.169670</td>\n",
       "                        <td id=\"T_514f1_row1_col4\" class=\"data row1 col4\" >0.000000</td>\n",
       "                        <td id=\"T_514f1_row1_col5\" class=\"data row1 col5\" >-0.000002</td>\n",
       "                        <td id=\"T_514f1_row1_col6\" class=\"data row1 col6\" >0.015415</td>\n",
       "            </tr>\n",
       "    </tbody></table>"
      ],
      "text/plain": [
       "<pandas.io.formats.style.Styler at 0x1711ec68448>"
      ]
     },
     "execution_count": 530,
     "metadata": {},
     "output_type": "execute_result"
    }
   ],
   "source": [
    "minima_solution_checked_per_geogebra = [0,0]\n",
    "data={\"minima\":minima_solution_checked_per_geogebra,\"gradient descent\":x_gr[-1].flatten(),\"newton method\":x_n[-1].flatten(),\"conjugent gradient\":x_fr[-1].flatten(),\n",
    "      \"symmetric rank one\":x_sr1[-1].flatten(),\"bfgs\":x_bfgs[-1].flatten(),\"trust region\":x_trust[-1].flatten()}\n",
    "df = pd.DataFrame(data, columns=[\"minima\",\"gradient descent\",\"newton method\",\"conjugent gradient\",\"symmetric rank one\",\"bfgs\",\"trust region\"])\n",
    "\n",
    "heading_properties = [('font-size', '18px')]\n",
    "\n",
    "cell_properties = [('font-size', '16px')]\n",
    "\n",
    "dfstyle = [dict(selector=\"th\", props=heading_properties),\\\n",
    " dict(selector=\"td\", props=cell_properties)]\n",
    "\n",
    "df.style.set_table_styles(dfstyle)"
   ]
  },
  {
   "cell_type": "markdown",
   "id": "1889f61f-3375-4970-a3c6-1f2f9ef61047",
   "metadata": {},
   "source": [
    "# 10) Polynomial 2 Variables order 6\n",
    "---\n",
    "\n",
    "$$\n",
    "f(x) = x_1^2 + x_2^6 + x_1 x_2 \n",
    "$$"
   ]
  },
  {
   "cell_type": "code",
   "execution_count": 531,
   "id": "7199f840-adf6-4f19-b8bf-02025f0e4a41",
   "metadata": {},
   "outputs": [],
   "source": [
    "\n",
    "def f(x):\n",
    "    x1 = x[0]\n",
    "    x2 = x[1]\n",
    "    val = x1**2 + x2**6 + x1*x2\n",
    "    return val\n",
    "\n",
    "def grad(x):\n",
    "    x1 = x[0]\n",
    "    x2 = x[1]\n",
    "    val = np.array([2 * x1 + x2, \n",
    "                    6 * x2**5 + x1])\n",
    "    return val\n",
    "\n",
    "def hess(x):\n",
    "    x1 = x[0]\n",
    "    x2 = x[1]\n",
    "    val = np.array([[2, 1], [1, 30 * x2**4]])\n",
    "    return val"
   ]
  },
  {
   "cell_type": "code",
   "execution_count": 532,
   "id": "5916ebf4-58d9-4772-87b9-d673c6a9569a",
   "metadata": {},
   "outputs": [],
   "source": [
    "x_start = np.array([0.5, -1])"
   ]
  },
  {
   "cell_type": "code",
   "execution_count": 533,
   "id": "4ddbd551-40fa-4f4c-b39a-454a324fda14",
   "metadata": {},
   "outputs": [],
   "source": [
    "x_gr = gradient_descent(f, grad, x_start.reshape(-1,1), tol=1e-4)"
   ]
  },
  {
   "cell_type": "code",
   "execution_count": 534,
   "id": "304f3ee9-f0cf-4398-965c-ce7211167df6",
   "metadata": {},
   "outputs": [],
   "source": [
    "x_n = newton_method(x_start, f, grad, hess)"
   ]
  },
  {
   "cell_type": "code",
   "execution_count": 535,
   "id": "d8d8ae6f-9f8f-4481-ada0-b61aca70957a",
   "metadata": {},
   "outputs": [],
   "source": [
    "x_fr = fletcher_reeves(f=f, x=x_start, x_true=None, tol=1e-4, stop=1e+2)"
   ]
  },
  {
   "cell_type": "code",
   "execution_count": 536,
   "id": "62f2122c-e5b3-4852-936a-a6a0397d2502",
   "metadata": {},
   "outputs": [],
   "source": [
    "x_sr1 = sr1(f, grad, x_start, linesearch=True, alpha=0.1, n_iters=100)"
   ]
  },
  {
   "cell_type": "code",
   "execution_count": 537,
   "id": "83b77aba-a598-4bd8-922f-b9bee140344f",
   "metadata": {},
   "outputs": [],
   "source": [
    "x_bfgs = bfgs(f, grad, x_start, line_search=True, alpha=0.1, n_iters=100)"
   ]
  },
  {
   "cell_type": "code",
   "execution_count": 538,
   "id": "47f8f981-62b9-4658-a380-fc3de898a0b9",
   "metadata": {},
   "outputs": [],
   "source": [
    "x_trust = trust_region_dogleg(f, grad, hess, x_start)"
   ]
  },
  {
   "cell_type": "code",
   "execution_count": 539,
   "id": "7e6564b3-9e15-4206-b307-c57fea65bc61",
   "metadata": {},
   "outputs": [
    {
     "data": {
      "text/plain": [
       "<matplotlib.legend.Legend at 0x1711718b948>"
      ]
     },
     "execution_count": 539,
     "metadata": {},
     "output_type": "execute_result"
    },
    {
     "data": {
      "image/png": "[encoded data removed]",
      "text/plain": [
       "<Figure size 792x432 with 2 Axes>"
      ]
     },
     "metadata": {},
     "output_type": "display_data"
    }
   ],
   "source": [
    "r = 1.5\n",
    "plot_2d_function(f, x1_range=[-r, r], x2_range=[-r, r])\n",
    "add_opt_path(x_gr, color=\"black\",color2=\"black\", label=\"Gradient Descent\")\n",
    "add_opt_path(x_n, color=\"white\",color2=\"white\", label=\"Newton Method\")\n",
    "add_opt_path(x_fr, color=\"blue\",color2=\"blue\", label=\"Conjugent Gradient\")\n",
    "add_opt_path(x_sr1, color=\"green\",color2=\"green\", label=\"Symmetric Rank one\")\n",
    "add_opt_path(x_bfgs, color=\"brown\",color2=\"brown\", label=\"BFGS\")\n",
    "add_opt_path(x_bfgs, color=\"yellow\",color2=\"yellow\", label=\"Trust Region\")\n",
    "plt.legend()"
   ]
  },
  {
   "cell_type": "code",
   "execution_count": 540,
   "id": "dfd72515-b8cf-4f6c-9c83-480a83e62310",
   "metadata": {},
   "outputs": [
    {
     "data": {
      "text/html": [
       "<style  type=\"text/css\" >\n",
       "    #T_35007_ th {\n",
       "          font-size: 18px;\n",
       "    }    #T_35007_ td {\n",
       "          font-size: 16px;\n",
       "    }</style><table id=\"T_35007_\" ><thead>    <tr>        <th class=\"blank level0\" ></th>        <th class=\"col_heading level0 col0\" >minima</th>        <th class=\"col_heading level0 col1\" >gradient descent</th>        <th class=\"col_heading level0 col2\" >newton method</th>        <th class=\"col_heading level0 col3\" >conjugent gradient</th>        <th class=\"col_heading level0 col4\" >symmetric rank one</th>        <th class=\"col_heading level0 col5\" >bfgs</th>        <th class=\"col_heading level0 col6\" >trust region</th>    </tr></thead><tbody>\n",
       "                <tr>\n",
       "                        <th id=\"T_35007_level0_row0\" class=\"row_heading level0 row0\" >0</th>\n",
       "                        <td id=\"T_35007_row0_col0\" class=\"data row0 col0\" >0.260000</td>\n",
       "                        <td id=\"T_35007_row0_col1\" class=\"data row0 col1\" >0.268701</td>\n",
       "                        <td id=\"T_35007_row0_col2\" class=\"data row0 col2\" >0.268699</td>\n",
       "                        <td id=\"T_35007_row0_col3\" class=\"data row0 col3\" >-0.301629</td>\n",
       "                        <td id=\"T_35007_row0_col4\" class=\"data row0 col4\" >0.472226</td>\n",
       "                        <td id=\"T_35007_row0_col5\" class=\"data row0 col5\" >0.268643</td>\n",
       "                        <td id=\"T_35007_row0_col6\" class=\"data row0 col6\" >0.268642</td>\n",
       "            </tr>\n",
       "            <tr>\n",
       "                        <th id=\"T_35007_level0_row1\" class=\"row_heading level0 row1\" >1</th>\n",
       "                        <td id=\"T_35007_row1_col0\" class=\"data row1 col0\" >0.590000</td>\n",
       "                        <td id=\"T_35007_row1_col1\" class=\"data row1 col1\" >-0.537330</td>\n",
       "                        <td id=\"T_35007_row1_col2\" class=\"data row1 col2\" >-0.537329</td>\n",
       "                        <td id=\"T_35007_row1_col3\" class=\"data row1 col3\" >0.590608</td>\n",
       "                        <td id=\"T_35007_row1_col4\" class=\"data row1 col4\" >-0.601396</td>\n",
       "                        <td id=\"T_35007_row1_col5\" class=\"data row1 col5\" >-0.537285</td>\n",
       "                        <td id=\"T_35007_row1_col6\" class=\"data row1 col6\" >-0.537285</td>\n",
       "            </tr>\n",
       "    </tbody></table>"
      ],
      "text/plain": [
       "<pandas.io.formats.style.Styler at 0x1711719e888>"
      ]
     },
     "execution_count": 540,
     "metadata": {},
     "output_type": "execute_result"
    }
   ],
   "source": [
    "minima_solution_checked_per_geogebra = [0.26,0.59]\n",
    "data={\"minima\":minima_solution_checked_per_geogebra,\"gradient descent\":x_gr[-1].flatten(),\"newton method\":x_n[-1].flatten(),\"conjugent gradient\":x_fr[-1].flatten(),\n",
    "      \"symmetric rank one\":x_sr1[-1].flatten(),\"bfgs\":x_bfgs[-1].flatten(),\"trust region\":x_trust[-1].flatten()}\n",
    "df = pd.DataFrame(data, columns=[\"minima\",\"gradient descent\",\"newton method\",\"conjugent gradient\",\"symmetric rank one\",\"bfgs\",\"trust region\"])\n",
    "\n",
    "heading_properties = [('font-size', '18px')]\n",
    "\n",
    "cell_properties = [('font-size', '16px')]\n",
    "\n",
    "dfstyle = [dict(selector=\"th\", props=heading_properties),\\\n",
    " dict(selector=\"td\", props=cell_properties)]\n",
    "\n",
    "df.style.set_table_styles(dfstyle)"
   ]
  },
  {
   "cell_type": "markdown",
   "id": "5de0c4cb-fd84-4cd3-b40c-79db21474164",
   "metadata": {},
   "source": [
    "## Obeservation:\n",
    "+ Conjugent Gradient managed to find an other minima"
   ]
  }
 ],
 "metadata": {
  "kernelspec": {
   "display_name": "Python 3",
   "language": "python",
   "name": "python3"
  },
  "language_info": {
   "codemirror_mode": {
    "name": "ipython",
    "version": 3
   },
   "file_extension": ".py",
   "mimetype": "text/x-python",
   "name": "python",
   "nbconvert_exporter": "python",
   "pygments_lexer": "ipython3",
   "version": "3.7.9"
  }
 },
 "nbformat": 4,
 "nbformat_minor": 5
}
